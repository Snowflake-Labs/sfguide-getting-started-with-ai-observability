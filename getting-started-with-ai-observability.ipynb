{
 "metadata": {
  "kernelspec": {
   "display_name": "Streamlit Notebook",
   "name": "streamlit"
  },
  "lastEditStatus": {
   "notebookId": "nbvbtngre37e26lgix6q",
   "authorId": "3763278724197",
   "authorName": "JREINI",
   "authorEmail": "josh.reini@snowflake.com",
   "sessionId": "ab6316ac-4a51-42f9-9bd3-71701275e081",
   "lastEditTime": 1742575759510
  }
 },
 "nbformat_minor": 5,
 "nbformat": 4,
 "cells": [
  {
   "cell_type": "markdown",
   "id": "3a4592fd-4b80-477a-a701-193c6c243b58",
   "metadata": {
    "collapsed": false,
    "name": "title",
    "resultHeight": 74
   },
   "source": "# Getting Started with AI Observability\n\n \nTo run, first install the following packages: `snowflake-ml-python`, `snowflake.core`, `trulens-core`, `trulens-feedback`, `trulens-providers-cortex`, `trulens-connectors-snowflake`, `trulens-otel-semconv`"
  },
  {
   "cell_type": "markdown",
   "id": "0a1550b9-345a-4b6d-9ee2-0cf064464a53",
   "metadata": {
    "collapsed": false,
    "name": "head_setup",
    "resultHeight": 60
   },
   "source": [
    "## Create the database, tables and warehouse"
   ]
  },
  {
   "cell_type": "code",
   "execution_count": null,
   "id": "a3105267-f3f3-457e-ae9f-310469dd5c00",
   "metadata": {
    "collapsed": false,
    "language": "python",
    "name": "get_active_session",
    "resultHeight": 0
   },
   "outputs": [],
   "source": [
    "from snowflake.snowpark.context import get_active_session\n",
    "session = get_active_session()"
   ]
  },
  {
   "cell_type": "code",
   "execution_count": null,
   "id": "3775908f-ca36-4846-8f38-5adca39217f2",
   "metadata": {
    "codeCollapsed": false,
    "collapsed": false,
    "language": "sql",
    "name": "create_database_warehouse",
    "resultHeight": 0,
    "vscode": {
     "languageId": "sql"
    }
   },
   "outputs": [],
   "source": [
    "CREATE DATABASE IF NOT EXISTS cortex_search_tutorial_db;\n",
    "\n",
    "CREATE OR REPLACE WAREHOUSE cortex_search_tutorial_wh WITH\n",
    "     WAREHOUSE_SIZE='X-SMALL'\n",
    "     AUTO_SUSPEND = 120\n",
    "     AUTO_RESUME = TRUE\n",
    "     INITIALLY_SUSPENDED=TRUE;\n",
    "\n",
    " USE WAREHOUSE cortex_search_tutorial_wh;"
   ]
  },
  {
   "cell_type": "markdown",
   "id": "70e9ef02-2494-4b6b-b8ad-735ae46fbd05",
   "metadata": {
    "collapsed": false,
    "name": "create_info",
    "resultHeight": 150
   },
   "source": [
    "Note:\n",
    "\n",
    "The CREATE DATABASE statement creates a database. The database automatically includes a schema named PUBLIC.\n",
    "\n",
    "The CREATE WAREHOUSE statement creates an initially suspended warehouse."
   ]
  },
  {
   "cell_type": "markdown",
   "id": "3caaed33-9e4f-4d6f-bfee-594856707302",
   "metadata": {
    "collapsed": false,
    "name": "get_data",
    "resultHeight": 303
   },
   "source": [
    "## Get PDF data\n",
    "\n",
    "You will use a sample dataset of the Federal Open Market Committee (FOMC) meeting minutes for this example. This is a sample of twelve 10-page documents with meeting notes from FOMC meetings from 2023 and 2024. Download the files directly from your browser by following this link:\n",
    "\n",
    "[FOMC minutes sample](https://drive.google.com/file/d/1C6TdVjy6d-GnasGO6ZrIEVJQRcedDQxG/view)\n",
    "\n",
    "The complete set of FOMC minutes can be found at the [US Federal Reserve’s website](https://www.federalreserve.gov/monetarypolicy/fomccalendars.htm).\n",
    "\n",
    "Note: In a non-classroom setting, you would bring your own data, possibly already in a Snowflake stage."
   ]
  },
  {
   "cell_type": "markdown",
   "id": "d8014de4-0579-4afc-b9be-2dbd623d3d44",
   "metadata": {
    "collapsed": false,
    "name": "load_to_stage",
    "resultHeight": 60
   },
   "source": [
    "## Load data into Snowflake stage"
   ]
  },
  {
   "cell_type": "code",
   "execution_count": null,
   "id": "f0e8d596-146e-4a6f-8a7b-4187b05e39db",
   "metadata": {
    "codeCollapsed": false,
    "collapsed": false,
    "language": "sql",
    "name": "create_stage",
    "resultHeight": 0,
    "vscode": {
     "languageId": "sql"
    }
   },
   "outputs": [],
   "source": [
    "CREATE OR REPLACE STAGE cortex_search_tutorial_db.public.fomc\n",
    "    DIRECTORY = (ENABLE = TRUE)\n",
    "    ENCRYPTION = (TYPE = 'SNOWFLAKE_SSE');"
   ]
  },
  {
   "cell_type": "markdown",
   "id": "ebb1b9d5-d330-43df-ace2-7f9f8883a085",
   "metadata": {
    "collapsed": false,
    "name": "load_instructions",
    "resultHeight": 374
   },
   "source": [
    "Now upload the dataset. You can upload the dataset in Snowsight or using SQL. To upload in Snowsight:\n",
    "\n",
    "1. Sign in to Snowsight.\n",
    "\n",
    "2. Select Data in the left-side navigation menu.\n",
    "\n",
    "3. Select your database cortex_search_tutorial_db.\n",
    "\n",
    "4. Select your schema public.\n",
    "\n",
    "5. Select Stages and select fomc.\n",
    "\n",
    "6. On the top right, Select the + Files button.\n",
    "\n",
    "7. Drag and drop files into the UI or select Browse to choose a file from the dialog window.\n",
    "\n",
    "8. Select Upload to upload your file."
   ]
  },
  {
   "cell_type": "markdown",
   "id": "1840b0d9-89a3-472f-aee5-92ae1717e231",
   "metadata": {
    "collapsed": false,
    "name": "head_verify_stage",
    "resultHeight": 60
   },
   "source": [
    "## Verify the PDF Files are uploaded to stage"
   ]
  },
  {
   "cell_type": "code",
   "execution_count": null,
   "id": "a7f0aeb5-1683-47e0-a5a1-f253a0ee69e6",
   "metadata": {
    "collapsed": false,
    "language": "sql",
    "name": "verify_stage",
    "vscode": {
     "languageId": "sql"
    }
   },
   "outputs": [],
   "source": [
    "ls @cortex_search_tutorial_db.public.fomc"
   ]
  },
  {
   "cell_type": "markdown",
   "id": "81011f41-48b1-4c38-8ed6-a5ee1f5d8289",
   "metadata": {
    "collapsed": false,
    "name": "head_parse_pdfs",
    "resultHeight": 60
   },
   "source": [
    "## Parse PDF Files"
   ]
  },
  {
   "cell_type": "code",
   "execution_count": null,
   "id": "d7d08d4e-c732-48e9-b526-e3bc848f10d9",
   "metadata": {
    "codeCollapsed": false,
    "collapsed": false,
    "language": "sql",
    "name": "parse_pdfs",
    "vscode": {
     "languageId": "sql"
    }
   },
   "outputs": [],
   "source": "CREATE OR REPLACE TABLE CORTEX_SEARCH_TUTORIAL_DB.PUBLIC.PARSED_FOMC_CONTENT AS SELECT \n      relative_path,\n      TO_VARCHAR(\n        SNOWFLAKE.CORTEX.PARSE_DOCUMENT(\n          @cortex_search_tutorial_db.public.fomc, \n          relative_path, \n          {'mode': 'LAYOUT'}\n        ) :content\n      ) AS parsed_text\n    FROM directory(@cortex_search_tutorial_db.public.fomc)\n    WHERE relative_path LIKE '%.pdf'"
  },
  {
   "cell_type": "code",
   "execution_count": null,
   "id": "5748401d-8846-408f-b35c-c9cdb58bcd1b",
   "metadata": {
    "language": "sql",
    "name": "verify_parse",
    "vscode": {
     "languageId": "sql"
    },
    "codeCollapsed": false
   },
   "outputs": [],
   "source": [
    "SELECT * FROM CORTEX_SEARCH_TUTORIAL_DB.PUBLIC.PARSED_FOMC_CONTENT LIMIT 2"
   ]
  },
  {
   "cell_type": "markdown",
   "id": "2432741a-f082-4085-a15a-a67ebb6f0c05",
   "metadata": {
    "collapsed": false,
    "name": "head_chunk",
    "resultHeight": 102
   },
   "source": [
    "## Chunk text"
   ]
  },
  {
   "cell_type": "code",
   "execution_count": null,
   "id": "63fca862-936f-489c-be8b-3e71410914d2",
   "metadata": {
    "codeCollapsed": false,
    "collapsed": false,
    "language": "sql",
    "name": "chunk",
    "vscode": {
     "languageId": "sql"
    }
   },
   "outputs": [],
   "source": [
    "CREATE OR REPLACE TABLE CORTEX_SEARCH_TUTORIAL_DB.PUBLIC.CHUNKED_FOMC_CONTENT (\n",
    "    file_name VARCHAR,\n",
    "    CHUNK VARCHAR\n",
    ");\n",
    "\n",
    "INSERT INTO CORTEX_SEARCH_TUTORIAL_DB.PUBLIC.CHUNKED_FOMC_CONTENT (file_name, CHUNK)\n",
    "SELECT\n",
    "    relative_path,\n",
    "    c.value AS CHUNK\n",
    "FROM\n",
    "    CORTEX_SEARCH_TUTORIAL_DB.PUBLIC.PARSED_FOMC_CONTENT,\n",
    "    LATERAL FLATTEN( input => SNOWFLAKE.CORTEX.SPLIT_TEXT_RECURSIVE_CHARACTER (\n",
    "        parsed_text,\n",
    "        'markdown',\n",
    "        1800,\n",
    "        250\n",
    "    )) c;"
   ]
  },
  {
   "cell_type": "code",
   "execution_count": null,
   "id": "175499b5-7c4a-4fa0-9182-ceeeb2ec5e2a",
   "metadata": {
    "codeCollapsed": false,
    "collapsed": false,
    "language": "sql",
    "name": "verify_chunk",
    "resultHeight": 0,
    "vscode": {
     "languageId": "sql"
    }
   },
   "outputs": [],
   "source": [
    "SELECT * FROM CORTEX_SEARCH_TUTORIAL_DB.PUBLIC.CHUNKED_FOMC_CONTENT LIMIT 10"
   ]
  },
  {
   "cell_type": "markdown",
   "id": "2ecbdbcd-6a4a-49ae-920f-f60524a2354f",
   "metadata": {
    "collapsed": false,
    "name": "head_create_search_service",
    "resultHeight": 60
   },
   "source": [
    "## Create Search Service"
   ]
  },
  {
   "cell_type": "code",
   "execution_count": null,
   "id": "b16b88ac-7fa2-408e-b7b4-44c2fe1539d1",
   "metadata": {
    "collapsed": false,
    "language": "sql",
    "name": "create_search_service",
    "resultHeight": 0,
    "vscode": {
     "languageId": "sql"
    }
   },
   "outputs": [],
   "source": [
    "CREATE OR REPLACE CORTEX SEARCH SERVICE CORTEX_SEARCH_TUTORIAL_DB.PUBLIC.FOMC_SEARCH_SERVICE\n",
    "    ON chunk\n",
    "    WAREHOUSE = cortex_search_tutorial_wh\n",
    "    TARGET_LAG = '1 minute'\n",
    "    EMBEDDING_MODEL = 'snowflake-arctic-embed-l-v2.0'\n",
    "    AS (\n",
    "    SELECT\n",
    "        file_name,\n",
    "        chunk\n",
    "    FROM CORTEX_SEARCH_TUTORIAL_DB.PUBLIC.CHUNKED_FOMC_CONTENT\n",
    "    );"
   ]
  },
  {
   "cell_type": "markdown",
   "id": "25cc75d5-dd7f-4779-98a7-cc3013891ee8",
   "metadata": {
    "collapsed": false,
    "name": "head_use_search_service",
    "resultHeight": 60
   },
   "source": [
    "## Use the Search Service"
   ]
  },
  {
   "cell_type": "code",
   "execution_count": null,
   "id": "b999eb72-2f6c-4e56-908b-048bb2110540",
   "metadata": {
    "codeCollapsed": false,
    "collapsed": false,
    "language": "python",
    "name": "use_search_service",
    "resultHeight": 0
   },
   "outputs": [],
   "source": [
    "import os\n",
    "from snowflake.core import Root\n",
    "from typing import List\n",
    "from snowflake.snowpark.session import Session\n",
    "\n",
    "class CortexSearchRetriever:\n",
    "\n",
    "    def __init__(self, snowpark_session: Session, limit_to_retrieve: int = 4):\n",
    "        self._snowpark_session = snowpark_session\n",
    "        self._limit_to_retrieve = limit_to_retrieve\n",
    "\n",
    "    def retrieve(self, query: str) -> List[str]:\n",
    "        root = Root(session)\n",
    "\n",
    "        search_service = (root\n",
    "          .databases[\"CORTEX_SEARCH_TUTORIAL_DB\"]\n",
    "          .schemas[\"PUBLIC\"]\n",
    "          .cortex_search_services[\"FOMC_SEARCH_SERVICE\"]\n",
    "        )\n",
    "        resp = search_service.search(\n",
    "          query=query,\n",
    "          columns=[\"chunk\"],\n",
    "          limit=self._limit_to_retrieve\n",
    "        )\n",
    "\n",
    "        if resp.results:\n",
    "            return [curr[\"chunk\"] for curr in resp.results]\n",
    "        else:\n",
    "            return []"
   ]
  },
  {
   "cell_type": "markdown",
   "id": "46770ade-ff32-481d-b375-b25b41f1ab9f",
   "metadata": {
    "name": "head_tracing_setup",
    "collapsed": false
   },
   "source": [
    "## Turn on OpenTelemetry Tracing"
   ]
  },
  {
   "cell_type": "code",
   "execution_count": null,
   "id": "deaf3c55-cc8c-4ede-a16d-b21083ab44b7",
   "metadata": {
    "name": "turn_on_otel",
    "language": "python"
   },
   "outputs": [],
   "source": [
    "import os\n",
    "os.environ[\"TRULENS_OTEL_TRACING\"] = \"1\""
   ]
  },
  {
   "cell_type": "code",
   "execution_count": null,
   "id": "acd4833c-836d-4072-bd45-4a844289a77b",
   "metadata": {
    "vscode": {
     "languageId": "sql"
    },
    "name": "create_observability_db_schema",
    "language": "sql",
    "codeCollapsed": false
   },
   "outputs": [],
   "source": [
    "create or replace database observability_db;\n",
    "use database observability_db;\n",
    "create or replace schema observability_schema;\n",
    "use schema observability_schema;"
   ]
  },
  {
   "cell_type": "markdown",
   "id": "c1ddf32f-0af5-405f-b536-ff9c79cd94da",
   "metadata": {
    "name": "head_create_rag",
    "collapsed": false
   },
   "source": [
    "## Create the RAG with instrumentation"
   ]
  },
  {
   "cell_type": "code",
   "execution_count": null,
   "id": "f6e31278-11c1-49e2-88a6-04eb58da532d",
   "metadata": {
    "codeCollapsed": false,
    "collapsed": false,
    "language": "python",
    "name": "create_rag",
    "resultHeight": 0
   },
   "outputs": [],
   "source": "from snowflake.cortex import complete\nfrom trulens.core.otel.instrument import instrument\nfrom trulens.otel.semconv.trace import SpanAttributes\n\nclass RAG:\n\n    def __init__(self):\n        self.retriever = CortexSearchRetriever(snowpark_session=session, limit_to_retrieve=4)\n\n    @instrument(\n        span_type=SpanAttributes.SpanType.RETRIEVAL,\n        attributes={\n            SpanAttributes.RETRIEVAL.QUERY_TEXT: \"query\",\n            SpanAttributes.RETRIEVAL.RETRIEVED_CONTEXTS: \"return\",\n            }\n    )\n    def retrieve_context(self, query: str) -> list:\n        \"\"\"\n        Retrieve relevant text from vector store.\n        \"\"\"\n        return self.retriever.retrieve(query)\n\n\n    @instrument(\n        span_type=SpanAttributes.SpanType.GENERATION)\n    def generate_completion(self, query: str, context_str: list) -> str:\n        \"\"\"\n        Generate answer from context.\n        \"\"\"\n        prompt = f\"\"\"\n          You are an expert assistant extracting information from context provided.\n          Answer the question in long-form, fully and completely, based on the context. Do not hallucinate.\n          If you don´t have the information just say so.\n          Context: {context_str}\n          Question:\n          {query}\n          Answer:\n        \"\"\"\n        response = \"\"\n        stream = complete(\"mistral-large2\", prompt, stream = True)\n        for update in stream:    \n          response += update\n          print(update, end = '')\n        return response\n\n    @instrument(\n        span_type=SpanAttributes.SpanType.RECORD_ROOT, \n        attributes={\n            SpanAttributes.RECORD_ROOT.INPUT: \"query\",\n            SpanAttributes.RECORD_ROOT.OUTPUT: \"return\",\n        })\n    def query(self, query: str) -> str:\n        context_str = self.retrieve_context(query)\n        return self.generate_completion(query, context_str)\n\n\nrag = RAG()"
  },
  {
   "cell_type": "markdown",
   "id": "ab69ec2d-8eb4-4cc4-a5d7-242c0131f800",
   "metadata": {
    "collapsed": false,
    "name": "head_query_rag",
    "resultHeight": 60
   },
   "source": [
    "## Query the RAG"
   ]
  },
  {
   "cell_type": "markdown",
   "id": "3307e02e-0a1f-4800-bb28-74e5910c6e31",
   "metadata": {
    "collapsed": false,
    "name": "head_register_rag"
   },
   "source": [
    "## Register the App"
   ]
  },
  {
   "cell_type": "code",
   "execution_count": null,
   "id": "5226476e-e829-4967-ad26-0cc303a59dcb",
   "metadata": {
    "codeCollapsed": false,
    "collapsed": false,
    "language": "python",
    "name": "register_rag",
    "resultHeight": 0
   },
   "outputs": [],
   "source": "from trulens.apps.app import TruApp\nfrom trulens.connectors.snowflake import SnowflakeConnector\n\ntru_snowflake_connector = SnowflakeConnector(snowpark_session=session)\n\napp_name = \"fed_reserve_rag\"\napp_version = \"cortex_search\"\n\ntru_rag = TruApp(\n        rag,\n        app_name=app_name,\n        app_version=app_version,\n        connector=tru_snowflake_connector\n    )"
  },
  {
   "cell_type": "code",
   "id": "157b3d30-5d02-402a-bd5a-bbd221c13613",
   "metadata": {
    "language": "python",
    "name": "cell3"
   },
   "outputs": [],
   "source": "run = tru_rag.get_run(\"experiment_1_run\")",
   "execution_count": null
  },
  {
   "cell_type": "markdown",
   "id": "d5413f89-2608-466c-b12f-7f422a4c1c97",
   "metadata": {
    "name": "head_add_run",
    "collapsed": false
   },
   "source": "## Configure and add experiment run"
  },
  {
   "cell_type": "code",
   "execution_count": null,
   "id": "deeb23d3-766d-42fb-b44a-d92f8c998be5",
   "metadata": {
    "name": "add_run",
    "language": "python"
   },
   "outputs": [],
   "source": "from trulens.core.run import Run\nfrom trulens.core.run import RunConfig\n\nrun_name = \"experiment_1_run\"\n\nrun_config = RunConfig(\n    run_name=run_name,\n    dataset_name=\"FOMC_DATA\",\n    source_type=\"TABLE\",\n    dataset_spec={\n        \"input\": \"QUERY\",\n        \"ground_truth_output\":\"GROUND_TRUTH_RESPONSE\",\n    },\n)\n\nrun: Run = tru_rag.add_run(run_config=run_config)"
  },
  {
   "cell_type": "markdown",
   "id": "449be03a-ba2f-44dd-8cc1-406755749913",
   "metadata": {
    "name": "head_describe_run",
    "collapsed": false
   },
   "source": [
    "## Describe the run"
   ]
  },
  {
   "cell_type": "code",
   "execution_count": null,
   "id": "24f7b64b-d3b6-482c-84b8-ecc01f6306fc",
   "metadata": {
    "name": "describe_run",
    "language": "python"
   },
   "outputs": [],
   "source": [
    "run.describe()"
   ]
  },
  {
   "cell_type": "markdown",
   "id": "57f4133b-ef2c-4966-b437-f2de5d19228a",
   "metadata": {
    "name": "head_start_run",
    "collapsed": false
   },
   "source": [
    "## Start the run"
   ]
  },
  {
   "cell_type": "code",
   "execution_count": null,
   "id": "034ca2ee-c284-47fa-8fb4-193e8ba258bc",
   "metadata": {
    "name": "start_run",
    "language": "python"
   },
   "outputs": [],
   "source": "run.start()"
  },
  {
   "cell_type": "markdown",
   "id": "75aaf6d5-9447-4af1-b0ad-577343aa55d4",
   "metadata": {
    "name": "head_compute_metrics",
    "collapsed": false
   },
   "source": [
    "## Compute metrics on the run"
   ]
  },
  {
   "cell_type": "code",
   "execution_count": null,
   "id": "117230cb-4d72-49b7-87fa-4c16551bb700",
   "metadata": {
    "name": "compute_metrics",
    "language": "python"
   },
   "outputs": [],
   "source": "run.compute_metrics([\n    \"answer_relevance\",\n    \"context_relevance\",\n    \"groundedness\",\n])"
  },
  {
   "cell_type": "markdown",
   "id": "b1db8b38-2e1d-4054-9fc5-833da59f7aac",
   "metadata": {
    "collapsed": false,
    "name": "head_navigate_ai_observability"
   },
   "source": [
    "## Navigate to AI > Applications to view AI Observability\n",
    "\n",
    "You may notice that there is low context relevance and groundedness scores for queries about 2025.\n",
    "\n",
    "This is a common symptom of an out-of-date knowledge base, where the user has asked a question of knowledge that our search service doesn't yet know about.\n",
    "\n",
    "To address this issue, we need to add new knowledge to our RAG via the Cortex Search service."
   ]
  }
 ]
}